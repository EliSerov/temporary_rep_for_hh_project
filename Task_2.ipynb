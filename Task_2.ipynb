{
 "cells": [
  {
   "cell_type": "markdown",
   "id": "de63dc00-4db4-4b35-824c-2e0da9574c12",
   "metadata": {},
   "source": [
    "Исследование структур данных"
   ]
  },
  {
   "cell_type": "code",
   "execution_count": 146,
   "id": "e9c18bcf-d72a-4413-a2db-f029fce3fc4a",
   "metadata": {},
   "outputs": [
    {
     "name": "stdout",
     "output_type": "stream",
     "text": [
      "(44744, 12)\n"
     ]
    }
   ],
   "source": [
    "import pandas as pd\n",
    "\n",
    "data = pd.read_csv(\"hh_database.csv\", delimiter=';')\n",
    "\n",
    "print(data.shape)\n"
   ]
  },
  {
   "cell_type": "code",
   "execution_count": 147,
   "id": "88a7e5eb-460a-450a-821a-dc776122cc67",
   "metadata": {},
   "outputs": [
    {
     "name": "stdout",
     "output_type": "stream",
     "text": [
      "                                   Пол, возраст           ЗП  \\\n",
      "0    Мужчина ,  39 лет , родился 27 ноября 1979   29000 руб.   \n",
      "1     Мужчина ,  60 лет , родился 20 марта 1959   40000 руб.   \n",
      "2  Женщина ,  36 лет , родилась 12 августа 1982   20000 руб.   \n",
      "3      Мужчина ,  38 лет , родился 25 июня 1980  100000 руб.   \n",
      "4     Женщина ,  26 лет , родилась 3 марта 1993  140000 руб.   \n",
      "\n",
      "                           Ищет работу на должность:  \\\n",
      "0                            Системный администратор   \n",
      "1                               Технический писатель   \n",
      "2                                           Оператор   \n",
      "3  Веб-разработчик (HTML / CSS / JS / PHP / базы ...   \n",
      "4                  Региональный менеджер по продажам   \n",
      "\n",
      "                        Город, переезд, командировки  \\\n",
      "0  Советск (Калининградская область) , не готов к...   \n",
      "1  Королев , не готов к переезду , готов к редким...   \n",
      "2  Тверь , не готова к переезду , не готова к ком...   \n",
      "3  Саратов , не готов к переезду , готов к редким...   \n",
      "4  Москва , не готова к переезду , готова к коман...   \n",
      "\n",
      "                                           Занятость  \\\n",
      "0  частичная занятость, проектная работа, полная ...   \n",
      "1  частичная занятость, проектная работа, полная ...   \n",
      "2                                   полная занятость   \n",
      "3  частичная занятость, проектная работа, полная ...   \n",
      "4                                   полная занятость   \n",
      "\n",
      "                                              График  \\\n",
      "0  гибкий график, полный день, сменный график, ва...   \n",
      "1  гибкий график, полный день, сменный график, уд...   \n",
      "2                                        полный день   \n",
      "3                    гибкий график, удаленная работа   \n",
      "4                                        полный день   \n",
      "\n",
      "                                         Опыт работы  \\\n",
      "0  Опыт работы 16 лет 10 месяцев  Август 2010 — п...   \n",
      "1  Опыт работы 19 лет 5 месяцев  Январь 2000 — по...   \n",
      "2  Опыт работы 10 лет 3 месяца  Октябрь 2004 — Де...   \n",
      "3  Опыт работы 18 лет 9 месяцев  Август 2017 — Ап...   \n",
      "4  Опыт работы 5 лет 7 месяцев  Региональный мене...   \n",
      "\n",
      "  Последнее/нынешнее место работы  \\\n",
      "0         МАОУ \"СОШ № 1 г.Немана\"   \n",
      "1    Временный трудовой коллектив   \n",
      "2                    ПАО Сбербанк   \n",
      "3                        OpenSoft   \n",
      "4                        Мармелад   \n",
      "\n",
      "                       Последняя/нынешняя должность  \\\n",
      "0                           Системный администратор   \n",
      "1  Менеджер проекта, Аналитик, Технический писатель   \n",
      "2                               Кассир-операционист   \n",
      "3                               Инженер-программист   \n",
      "4                              Менеджер по продажам   \n",
      "\n",
      "                                   Образование и ВУЗ Обновление резюме  \\\n",
      "0  Неоконченное высшее образование 2000  Балтийск...  16.04.2019 15:59   \n",
      "1  Высшее образование 1981  Военно-космическая ак...  12.04.2019 08:42   \n",
      "2  Среднее специальное образование 2002 Профессио...  16.04.2019 08:35   \n",
      "3  Высшее образование 2002  Саратовский государст...  08.04.2019 14:23   \n",
      "4  Высшее образование 2015 Кгу Психологии и педаг...  22.04.2019 10:32   \n",
      "\n",
      "                             Авто  \n",
      "0  Имеется собственный автомобиль  \n",
      "1                      Не указано  \n",
      "2                      Не указано  \n",
      "3                      Не указано  \n",
      "4                      Не указано  \n"
     ]
    }
   ],
   "source": [
    "print(data.head())"
   ]
  },
  {
   "cell_type": "code",
   "execution_count": 148,
   "id": "9c16aaba-c514-41a5-9ab0-8c99192c1ad6",
   "metadata": {},
   "outputs": [
    {
     "name": "stdout",
     "output_type": "stream",
     "text": [
      "<class 'pandas.core.frame.DataFrame'>\n",
      "RangeIndex: 44744 entries, 0 to 44743\n",
      "Data columns (total 12 columns):\n",
      " #   Column                           Non-Null Count  Dtype \n",
      "---  ------                           --------------  ----- \n",
      " 0   Пол, возраст                     44744 non-null  object\n",
      " 1   ЗП                               44744 non-null  object\n",
      " 2   Ищет работу на должность:        44744 non-null  object\n",
      " 3   Город, переезд, командировки     44744 non-null  object\n",
      " 4   Занятость                        44744 non-null  object\n",
      " 5   График                           44744 non-null  object\n",
      " 6   Опыт работы                      44576 non-null  object\n",
      " 7   Последнее/нынешнее место работы  44743 non-null  object\n",
      " 8   Последняя/нынешняя должность     44742 non-null  object\n",
      " 9   Образование и ВУЗ                44744 non-null  object\n",
      " 10  Обновление резюме                44744 non-null  object\n",
      " 11  Авто                             44744 non-null  object\n",
      "dtypes: object(12)\n",
      "memory usage: 4.1+ MB\n"
     ]
    }
   ],
   "source": [
    "data.info()"
   ]
  },
  {
   "cell_type": "code",
   "execution_count": 149,
   "id": "9f9a5073-eb8f-4fca-8778-583d74a3c123",
   "metadata": {},
   "outputs": [
    {
     "name": "stdout",
     "output_type": "stream",
     "text": [
      "Пол, возраст                         0\n",
      "ЗП                                   0\n",
      "Ищет работу на должность:            0\n",
      "Город, переезд, командировки         0\n",
      "Занятость                            0\n",
      "График                               0\n",
      "Опыт работы                        168\n",
      "Последнее/нынешнее место работы      1\n",
      "Последняя/нынешняя должность         2\n",
      "Образование и ВУЗ                    0\n",
      "Обновление резюме                    0\n",
      "Авто                                 0\n",
      "dtype: int64\n"
     ]
    }
   ],
   "source": [
    "print(data.isnull().sum())"
   ]
  },
  {
   "cell_type": "code",
   "execution_count": 150,
   "id": "b5cc2549-9b91-4e6d-b6ab-49b17ad064af",
   "metadata": {},
   "outputs": [
    {
     "name": "stdout",
     "output_type": "stream",
     "text": [
      "                                         Пол, возраст          ЗП  \\\n",
      "count                                           44744       44744   \n",
      "unique                                          16003         690   \n",
      "top     Мужчина ,  32 года , родился 17 сентября 1986  50000 руб.   \n",
      "freq                                               18        4064   \n",
      "\n",
      "       Ищет работу на должность:  \\\n",
      "count                      44744   \n",
      "unique                     14929   \n",
      "top      Системный администратор   \n",
      "freq                        3099   \n",
      "\n",
      "                             Город, переезд, командировки         Занятость  \\\n",
      "count                                               44744             44744   \n",
      "unique                                              10063                38   \n",
      "top     Москва , не готов к переезду , не готов к кома...  полная занятость   \n",
      "freq                                                 1261             30026   \n",
      "\n",
      "             График                                        Опыт работы  \\\n",
      "count         44744                                              44576   \n",
      "unique           47                                              44413   \n",
      "top     полный день  Опыт работы 10 лет 8 месяцев  Апрель 2018 — по...   \n",
      "freq          22727                                                  3   \n",
      "\n",
      "                          Последнее/нынешнее место работы  \\\n",
      "count                                               44743   \n",
      "unique                                              30214   \n",
      "top     Индивидуальное предпринимательство / частная п...   \n",
      "freq                                                  935   \n",
      "\n",
      "       Последняя/нынешняя должность  \\\n",
      "count                         44742   \n",
      "unique                        16927   \n",
      "top         Системный администратор   \n",
      "freq                           2062   \n",
      "\n",
      "                                        Образование и ВУЗ Обновление резюме  \\\n",
      "count                                               44744             44744   \n",
      "unique                                              40148             18838   \n",
      "top     Высшее образование 2014  Московский технически...  07.05.2019 09:50   \n",
      "freq                                                    4                25   \n",
      "\n",
      "              Авто  \n",
      "count        44744  \n",
      "unique           2  \n",
      "top     Не указано  \n",
      "freq         32268  \n",
      "44413\n",
      "Системный администратор\n"
     ]
    }
   ],
   "source": [
    "# Статистическая информация по числовым столбцам\n",
    "print(data.describe())\n",
    "\n",
    "# Количество уникальных значений в \"Опыт работы\"\n",
    "print(data['Опыт работы'].nunique())\n",
    "\n",
    "# Самая распространённая должность\n",
    "print(data['Последняя/нынешняя должность'].mode()[0])\n"
   ]
  },
  {
   "cell_type": "code",
   "execution_count": 151,
   "id": "1e68157e-4683-4f26-93fc-52f209dcfe4c",
   "metadata": {},
   "outputs": [
    {
     "name": "stdout",
     "output_type": "stream",
     "text": [
      "['неоконченное высшее' 'высшее' 'среднее специальное' 'среднее']\n",
      "Количество соискателей с средним образованием: 559\n"
     ]
    }
   ],
   "source": [
    "import pandas as pd\n",
    "# Функция для извлечения уровня образования\n",
    "def extract_education(text):\n",
    "    # Разбиваем строку на слова\n",
    "    words = text.split()\n",
    "    # Определяем уровень образования по первым трём словам\n",
    "    if 'Высшее' in words[:3]:\n",
    "        return 'высшее'\n",
    "    elif 'Неоконченное' in words[:3]:\n",
    "        return 'неоконченное высшее'\n",
    "    elif 'Среднее' in words[:3] and 'специальное' in words[:3]:\n",
    "        return 'среднее специальное'\n",
    "    else:\n",
    "        return 'среднее'\n",
    "\n",
    "# Применяем функцию для создания нового столбца \"Образование\"\n",
    "data['Образование'] = data['Образование и ВУЗ'].apply(extract_education)\n",
    "\n",
    "# Проверяем уникальные значения в столбце \"Образование\"\n",
    "print(data['Образование'].unique())\n",
    "\n",
    "# Сколько соискателей имеет средний уровень образования \n",
    "count_medium_education = (data['Образование'] == 'среднее').sum()\n",
    "print(f\"Количество соискателей с средним образованием: {count_medium_education}\")"
   ]
  },
  {
   "cell_type": "code",
   "execution_count": 152,
   "id": "c5556fc8-517d-497d-826d-991ab0ac58bc",
   "metadata": {},
   "outputs": [
    {
     "name": "stdout",
     "output_type": "stream",
     "text": [
      "  Пол  Возраст\n",
      "0   М       39\n",
      "1   М       60\n",
      "2   Ж       36\n",
      "3   М       38\n",
      "4   Ж       26\n",
      "Процент женских резюме: 19.07%\n",
      "Средний возраст соискателей: 32.2 лет\n"
     ]
    }
   ],
   "source": [
    "import pandas as pd\n",
    "\n",
    "# Функция для извлечения пола\n",
    "def extract_gender(text):\n",
    "    if 'Мужчина' in text:\n",
    "        return 'М'\n",
    "    elif 'Женщина' in text:\n",
    "        return 'Ж'\n",
    "    else:\n",
    "        return None\n",
    "\n",
    "# Функция для извлечения возраста\n",
    "def extract_age(text):\n",
    "    # Разделим строку на части, чтобы извлечь возраст\n",
    "    parts = text.split(' , ')\n",
    "    # Возраст всегда в виде <число> лет/год\n",
    "    age_str = parts[1] if len(parts) > 1 else ''\n",
    "    # Оставим только число\n",
    "    age = int(age_str.split()[0])  # Возраст всегда первое число\n",
    "    return age\n",
    "\n",
    "# Применяем функции для создания новых столбцов\n",
    "data['Пол'] = data['Пол, возраст'].apply(extract_gender)\n",
    "data['Возраст'] = data['Пол, возраст'].apply(extract_age)\n",
    "\n",
    "# Проверяем результат\n",
    "print(data[['Пол', 'Возраст']].head())\n",
    "\n",
    "# 1. Считаем процент женских резюме\n",
    "female_count = (data['Пол'] == 'Ж').sum()\n",
    "total_count = len(data)\n",
    "female_percentage = (female_count / total_count) * 100\n",
    "\n",
    "# 2. Средний возраст соискателей\n",
    "average_age = data['Возраст'].mean()\n",
    "\n",
    "# Выводим результаты\n",
    "print(f\"Процент женских резюме: {female_percentage:.2f}%\")\n",
    "print(f\"Средний возраст соискателей: {average_age:.1f} лет\")\n"
   ]
  },
  {
   "cell_type": "code",
   "execution_count": 153,
   "id": "1d523400-5ba9-4b65-a3f7-5d8fa83ac0ae",
   "metadata": {},
   "outputs": [
    {
     "name": "stdout",
     "output_type": "stream",
     "text": [
      "   Опыт работы\n",
      "0        202.0\n",
      "1        233.0\n",
      "2        123.0\n",
      "3        225.0\n",
      "4         67.0\n"
     ]
    }
   ],
   "source": [
    "import numpy as np\n",
    "\n",
    "# Функция для извлечения опыта работы в месяцах\n",
    "def extract_work_experience(text):\n",
    "    if pd.isna(text) or text == 'Не указано':\n",
    "        return np.nan\n",
    "    \n",
    "    # Преобразуем текст в список слов\n",
    "    parts = text.split()\n",
    "    \n",
    "    years = 0\n",
    "    months = 0\n",
    "    \n",
    "    # Списки ключевых слов для лет и месяцев\n",
    "    years_keywords = ['год', 'года', 'лет']\n",
    "    months_keywords = ['месяц', 'месяца', 'месяцев']\n",
    "    \n",
    "    # Ищем количество лет\n",
    "    if any(keyword in parts for keyword in years_keywords):\n",
    "        # Находим индекс слова, которое связано с годами\n",
    "        year_index = next(i for i, word in enumerate(parts) if word in years_keywords)\n",
    "        try:\n",
    "            years = int(parts[year_index - 1])  # Число перед словом \"год\"/\"года\"/\"лет\"\n",
    "        except ValueError:\n",
    "            years = 0  # Если перед словом нет числа, ставим 0\n",
    "    \n",
    "    # Ищем количество месяцев\n",
    "    if any(keyword in parts for keyword in months_keywords):\n",
    "        # Находим индекс слова, которое связано с месяцами\n",
    "        month_index = next(i for i, word in enumerate(parts) if word in months_keywords)\n",
    "        try:\n",
    "            months = int(parts[month_index - 1])  # Число перед словом \"месяц\"/\"месяца\"/\"месяцев\"\n",
    "        except ValueError:\n",
    "            months = 0  # Если перед словом нет числа, ставим 0\n",
    "    \n",
    "    # Переводим опыт в месяцы\n",
    "    total_months = years * 12 + months\n",
    "    return total_months\n",
    "\n",
    "# Применяем функцию к столбцу \"Опыт работы\"\n",
    "data['Опыт работы'] = data['Опыт работы'].apply(extract_work_experience)\n",
    "\n",
    "# Проверяем результат\n",
    "print(data[['Опыт работы']].head())\n"
   ]
  },
  {
   "cell_type": "code",
   "execution_count": 154,
   "id": "f3474dea-08f1-49fa-afd3-c7509e811a68",
   "metadata": {},
   "outputs": [
    {
     "name": "stdout",
     "output_type": "stream",
     "text": [
      "Медианный опыт работы: 100.0 месяцев\n"
     ]
    }
   ],
   "source": [
    "median_experience = data['Опыт работы'].median()\n",
    "print(f\"Медианный опыт работы: {median_experience} месяцев\")\n",
    "\n"
   ]
  },
  {
   "cell_type": "code",
   "execution_count": 155,
   "id": "9f07ecec-5ee1-4e3e-9c0a-aaaee11dc0a3",
   "metadata": {},
   "outputs": [
    {
     "name": "stdout",
     "output_type": "stream",
     "text": [
      "11.0% соискателей из Питера\n",
      "32.0% соискателей готовы и к переездам, и к командировкам\n",
      "    Город  Готовность к переезду  Готовность к командировкам\n",
      "0  другие                  False                       False\n",
      "1  другие                  False                        True\n",
      "2  другие                  False                       False\n",
      "3  другие                  False                        True\n",
      "4  Москва                  False                        True\n"
     ]
    }
   ],
   "source": [
    "# Функция для извлечения города\n",
    "def extract_city(obj_str):\n",
    "    million_cities = ['Новосибирск', 'Екатеринбург','Нижний Новгород','Казань', 'Челябинск','Омск', 'Самара', 'Ростов-на-Дону', 'Уфа', 'Красноярск', 'Пермь', 'Воронеж','Волгоград']\n",
    "    city = str(obj_str).split(',')[0].strip()\n",
    "    if city == 'Москва' or city == 'Санкт-Петербург':\n",
    "        return city\n",
    "    elif city in million_cities:\n",
    "        return 'город-миллионник'\n",
    "    else:\n",
    "        return 'другие'\n",
    "\n",
    "# Функция для извлечения готовности к переезду\n",
    "def extract_reloc_status(obj_str):\n",
    "    reloc_str_spl = str(obj_str).split(',')\n",
    "    for i, val in enumerate(reloc_str_spl[1:]):\n",
    "        if 'перее' in val:\n",
    "            reloc_str = val\n",
    "    \n",
    "            if 'не ' in reloc_str:\n",
    "                return False\n",
    "    return True  # Если нет информации, считаем, что готовы\n",
    "\n",
    "# Функция для извлечения готовности к командировкам\n",
    "def extract_trip_status(obj_str):\n",
    "    trip_str_spl = str(obj_str).split(',')\n",
    "    trip_str = None\n",
    "    for i, val in enumerate(trip_str_spl[1:]):\n",
    "        if 'командир' in val:\n",
    "            trip_str = val\n",
    "    \n",
    "    if trip_str is None:\n",
    "        return False  # Если нет информации, считаем, что не готовы\n",
    "    elif 'не ' in trip_str:\n",
    "        return False\n",
    "    else:\n",
    "        return True\n",
    "\n",
    "# Применяем функции к столбцу \"Город, переезд, командировки\"\n",
    "data['Готовность к переезду'] = data['Город, переезд, командировки'].apply(extract_reloc_status)\n",
    "data['Город'] = data['Город, переезд, командировки'].apply(extract_city)\n",
    "data['Готовность к командировкам'] = data['Город, переезд, командировки'].apply(extract_trip_status)\n",
    "\n",
    "# Рассчитываем процент соискателей из Санкт-Петербурга\n",
    "spb_proc = data[data['Город'] == 'Санкт-Петербург']['Город'].count() / data.shape[0] * 100\n",
    "print(f'{round(spb_proc, 0)}% соискателей из Питера')\n",
    "\n",
    "# Рассчитываем процент соискателей, готовых одновременно и к переезду, и к командировкам\n",
    "rel_trip_proc = data[data['Готовность к переезду'] & data['Готовность к командировкам']].shape[0] / data.shape[0] * 100\n",
    "print(f'{round(rel_trip_proc, 0)}% соискателей готовы и к переездам, и к командировкам')\n",
    "\n",
    "# Удаляем столбец \"Город, переезд, командировки\"\n",
    "data.drop('Город, переезд, командировки', axis=1, inplace=True)\n",
    "\n",
    "# Проверка результатов\n",
    "print(data[['Город', 'Готовность к переезду', 'Готовность к командировкам']].head())\n"
   ]
  },
  {
   "cell_type": "code",
   "execution_count": 156,
   "id": "ff1d54ab-9ac9-4656-b787-a0c23a15cd4e",
   "metadata": {},
   "outputs": [
    {
     "name": "stdout",
     "output_type": "stream",
     "text": [
      "            ЗП                          Ищет работу на должность:  \\\n",
      "0   29000 руб.                            Системный администратор   \n",
      "1   40000 руб.                               Технический писатель   \n",
      "2   20000 руб.                                           Оператор   \n",
      "3  100000 руб.  Веб-разработчик (HTML / CSS / JS / PHP / базы ...   \n",
      "4  140000 руб.                  Региональный менеджер по продажам   \n",
      "\n",
      "   Опыт работы Последнее/нынешнее место работы  \\\n",
      "0        202.0         МАОУ \"СОШ № 1 г.Немана\"   \n",
      "1        233.0    Временный трудовой коллектив   \n",
      "2        123.0                    ПАО Сбербанк   \n",
      "3        225.0                        OpenSoft   \n",
      "4         67.0                        Мармелад   \n",
      "\n",
      "                       Последняя/нынешняя должность Обновление резюме  \\\n",
      "0                           Системный администратор  16.04.2019 15:59   \n",
      "1  Менеджер проекта, Аналитик, Технический писатель  12.04.2019 08:42   \n",
      "2                               Кассир-операционист  16.04.2019 08:35   \n",
      "3                               Инженер-программист  08.04.2019 14:23   \n",
      "4                              Менеджер по продажам  22.04.2019 10:32   \n",
      "\n",
      "                             Авто          Образование Пол  Возраст  ...  \\\n",
      "0  Имеется собственный автомобиль  неоконченное высшее   М       39  ...   \n",
      "1                      Не указано               высшее   М       60  ...   \n",
      "2                      Не указано  среднее специальное   Ж       36  ...   \n",
      "3                      Не указано               высшее   М       38  ...   \n",
      "4                      Не указано               высшее   Ж       26  ...   \n",
      "\n",
      "   полная занятость частичная занятость  проектная работа  волонтерство  \\\n",
      "0              True                True              True         False   \n",
      "1              True                True              True         False   \n",
      "2              True               False             False         False   \n",
      "3              True                True              True         False   \n",
      "4              True               False             False         False   \n",
      "\n",
      "   стажировка  полный день  сменный график  гибкий график  удалённая работа  \\\n",
      "0       False         True            True           True             False   \n",
      "1       False         True            True           True             False   \n",
      "2       False         True           False          False             False   \n",
      "3       False        False           False           True             False   \n",
      "4       False         True           False          False             False   \n",
      "\n",
      "   вахтовый метод  \n",
      "0            True  \n",
      "1           False  \n",
      "2           False  \n",
      "3           False  \n",
      "4           False  \n",
      "\n",
      "[5 rows x 23 columns]\n"
     ]
    }
   ],
   "source": [
    "# Задаем категории для One Hot Encoding\n",
    "employment_categories = ['полная занятость', 'частичная занятость', 'проектная работа', 'волонтерство', 'стажировка']\n",
    "schedule_categories = ['полный день', 'сменный график', 'гибкий график', 'удалённая работа', 'вахтовый метод']\n",
    "\n",
    "# Функция для создания признаков для занятости\n",
    "def apply_employment_categories(text):\n",
    "    return {category: (category in text) for category in employment_categories}\n",
    "\n",
    "# Функция для создания признаков для графика\n",
    "def apply_schedule_categories(text):\n",
    "    return {category: (category in text) for category in schedule_categories}\n",
    "\n",
    "# Применяем функцию для \"Занятость\" и \"График\"\n",
    "employment_df = data['Занятость'].apply(lambda x: pd.Series(apply_employment_categories(x)))\n",
    "schedule_df = data['График'].apply(lambda x: pd.Series(apply_schedule_categories(x)))\n",
    "\n",
    "# Объединяем данные с оригинальной таблицей\n",
    "data = pd.concat([data, employment_df, schedule_df], axis=1)\n",
    "\n",
    "# Удаляем старые столбцы \"Занятость\" и \"График\"\n",
    "data.drop(columns=['Занятость', 'График'], inplace=True)\n",
    "\n",
    "# Проверяем результат\n",
    "print(data.head())\n",
    "\n"
   ]
  },
  {
   "cell_type": "code",
   "execution_count": 157,
   "id": "75de27ec-fa3b-4f8e-9dcb-90e9bbdbbee4",
   "metadata": {},
   "outputs": [
    {
     "name": "stdout",
     "output_type": "stream",
     "text": [
      "Количество людей, ищущих проектную работу и волонтёрство: 436\n"
     ]
    }
   ],
   "source": [
    "project_volunteer_count = data[(data['проектная работа'] == True) & (data['волонтерство'] == True)].shape[0]\n",
    "print(f\"Количество людей, ищущих проектную работу и волонтёрство: {project_volunteer_count}\")\n"
   ]
  },
  {
   "cell_type": "code",
   "execution_count": 158,
   "id": "bf6090ba-59c3-4fbe-b3ba-f85e26ec7d4d",
   "metadata": {},
   "outputs": [
    {
     "name": "stdout",
     "output_type": "stream",
     "text": [
      "Количество людей, готовых работать вахтовым методом и с гибким графиком: 2311\n"
     ]
    }
   ],
   "source": [
    "shift_vahov_count = data[(data['вахтовый метод'] == True) & (data['гибкий график'] == True)].shape[0]\n",
    "print(f\"Количество людей, готовых работать вахтовым методом и с гибким графиком: {shift_vahov_count}\")\n"
   ]
  },
  {
   "cell_type": "markdown",
   "id": "fb8aa1fb-b88a-4380-b292-d8c59cfbd70c",
   "metadata": {},
   "source": [
    "Доделаю потом (ЗП)"
   ]
  },
  {
   "cell_type": "markdown",
   "id": "5f8d1838-a495-4b7b-906d-a669e654b29a",
   "metadata": {},
   "source": [
    "Очистка"
   ]
  }
 ],
 "metadata": {
  "kernelspec": {
   "display_name": "Python 3 (ipykernel)",
   "language": "python",
   "name": "python3"
  },
  "language_info": {
   "codemirror_mode": {
    "name": "ipython",
    "version": 3
   },
   "file_extension": ".py",
   "mimetype": "text/x-python",
   "name": "python",
   "nbconvert_exporter": "python",
   "pygments_lexer": "ipython3",
   "version": "3.10.12"
  }
 },
 "nbformat": 4,
 "nbformat_minor": 5
}
